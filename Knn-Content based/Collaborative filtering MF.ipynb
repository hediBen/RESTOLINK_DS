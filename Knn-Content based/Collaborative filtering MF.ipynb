{
 "cells": [
  {
   "cell_type": "code",
   "execution_count": 1,
   "metadata": {},
   "outputs": [],
   "source": [
    "import pandas as pd\n",
    "import numpy as np\n"
   ]
  },
  {
   "cell_type": "code",
   "execution_count": 2,
   "metadata": {},
   "outputs": [],
   "source": []
  },
  {
   "cell_type": "code",
   "execution_count": 5,
   "metadata": {},
   "outputs": [],
   "source": [
    "reviews=pd.read_csv('reviews.csv')"
   ]
  },
  {
   "cell_type": "code",
   "execution_count": 6,
   "metadata": {},
   "outputs": [
    {
     "data": {
      "text/plain": [
       "Index(['userID', 'placeID', 'smoker', 'drink_level', 'dress_preference',\n",
       "       'transport', 'marital_status', 'activity', 'budget', 'name', 'alcohol',\n",
       "       'smoking_area', 'dress_code', 'price', 'area', 'other_services',\n",
       "       'GlobalRatings', 'age', 'distance', 'Review_State'],\n",
       "      dtype='object')"
      ]
     },
     "execution_count": 6,
     "metadata": {},
     "output_type": "execute_result"
    }
   ],
   "source": [
    "reviews.columns"
   ]
  },
  {
   "cell_type": "code",
   "execution_count": 9,
   "metadata": {},
   "outputs": [
    {
     "data": {
      "text/plain": [
       "0      0.693407\n",
       "1      0.806876\n",
       "2      1.036330\n",
       "3      0.729154\n",
       "4      0.080878\n",
       "5      0.170468\n",
       "6      0.427612\n",
       "7      0.338330\n",
       "8      0.617608\n",
       "9      0.358171\n",
       "10     0.427612\n",
       "11     0.172505\n",
       "12     0.336816\n",
       "13     0.359625\n",
       "14     0.426182\n",
       "15     0.365149\n",
       "16     0.535381\n",
       "17     0.080997\n",
       "18     0.169029\n",
       "19     0.616119\n",
       "20     1.378913\n",
       "21     1.291796\n",
       "22     1.484715\n",
       "23     9.547245\n",
       "24     4.393866\n",
       "25     0.641659\n",
       "26     0.785439\n",
       "27     0.186382\n",
       "28     0.166036\n",
       "29     2.227996\n",
       "         ...   \n",
       "938    0.486267\n",
       "939    0.424716\n",
       "940    0.476732\n",
       "941    0.060347\n",
       "942    0.339721\n",
       "943    0.355296\n",
       "944    0.186904\n",
       "945    0.158038\n",
       "946    0.265579\n",
       "947    0.139246\n",
       "948    3.040418\n",
       "949    2.770634\n",
       "950    0.799555\n",
       "951    2.939053\n",
       "952    2.260826\n",
       "953    0.489700\n",
       "954    0.956800\n",
       "955    2.452689\n",
       "956    0.594420\n",
       "957    0.424168\n",
       "958    1.368503\n",
       "959    1.198353\n",
       "960    0.801795\n",
       "961    2.017984\n",
       "962    1.022962\n",
       "963    1.895746\n",
       "964    2.022179\n",
       "965    1.015471\n",
       "966    0.617608\n",
       "967    0.295448\n",
       "Name: distance, Length: 968, dtype: float64"
      ]
     },
     "execution_count": 9,
     "metadata": {},
     "output_type": "execute_result"
    }
   ],
   "source": [
    "reviews.distance"
   ]
  },
  {
   "cell_type": "code",
   "execution_count": null,
   "metadata": {},
   "outputs": [],
   "source": []
  },
  {
   "cell_type": "code",
   "execution_count": 6,
   "metadata": {},
   "outputs": [
    {
     "name": "stdout",
     "output_type": "stream",
     "text": [
      "the table's shape is:\n",
      "(129, 130)\n"
     ]
    }
   ],
   "source": []
  },
  {
   "cell_type": "code",
   "execution_count": null,
   "metadata": {},
   "outputs": [],
   "source": []
  },
  {
   "cell_type": "code",
   "execution_count": 6,
   "metadata": {},
   "outputs": [],
   "source": []
  },
  {
   "cell_type": "code",
   "execution_count": null,
   "metadata": {},
   "outputs": [],
   "source": []
  }
 ],
 "metadata": {
  "kernelspec": {
   "display_name": "Python 3",
   "language": "python",
   "name": "python3"
  },
  "language_info": {
   "codemirror_mode": {
    "name": "ipython",
    "version": 3
   },
   "file_extension": ".py",
   "mimetype": "text/x-python",
   "name": "python",
   "nbconvert_exporter": "python",
   "pygments_lexer": "ipython3",
   "version": "3.7.3"
  }
 },
 "nbformat": 4,
 "nbformat_minor": 2
}

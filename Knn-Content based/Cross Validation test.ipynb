{
 "cells": [
  {
   "cell_type": "code",
   "execution_count": 3,
   "metadata": {},
   "outputs": [],
   "source": [
    "from surprise import SVD\n",
    "from surprise import Dataset\n",
    "from surprise import Reader\n",
    "from surprise.model_selection import cross_validate\n",
    "import pandas as pd\n"
   ]
  },
  {
   "cell_type": "code",
   "execution_count": 4,
   "metadata": {},
   "outputs": [],
   "source": [
    "rev=pd.read_csv('reviews.csv')"
   ]
  },
  {
   "cell_type": "code",
   "execution_count": 5,
   "metadata": {},
   "outputs": [
    {
     "data": {
      "text/plain": [
       "Index(['userID', 'placeID', 'smoker', 'drink_level', 'dress_preference',\n",
       "       'transport', 'marital_status', 'activity', 'budget', 'name', 'alcohol',\n",
       "       'smoking_area', 'dress_code', 'price', 'area', 'other_services',\n",
       "       'GlobalRatings', 'age', 'distance', 'Review_State'],\n",
       "      dtype='object')"
      ]
     },
     "execution_count": 5,
     "metadata": {},
     "output_type": "execute_result"
    }
   ],
   "source": [
    "rev.columns"
   ]
  },
  {
   "cell_type": "code",
   "execution_count": 6,
   "metadata": {},
   "outputs": [],
   "source": [
    "rev.drop([ 'smoker', 'drink_level', 'dress_preference',\n",
    "       'transport', 'marital_status', 'activity', 'budget', 'name', 'alcohol',\n",
    "       'smoking_area', 'price', 'area', 'other_services', 'age', 'Review_State'],inplace=True,axis=1)"
   ]
  },
  {
   "cell_type": "code",
   "execution_count": 7,
   "metadata": {},
   "outputs": [
    {
     "data": {
      "text/plain": [
       "Index(['userID', 'placeID', 'dress_code', 'GlobalRatings', 'distance'], dtype='object')"
      ]
     },
     "execution_count": 7,
     "metadata": {},
     "output_type": "execute_result"
    }
   ],
   "source": [
    "rev.columns"
   ]
  },
  {
   "cell_type": "code",
   "execution_count": 8,
   "metadata": {},
   "outputs": [],
   "source": [
    "rev.to_csv(r'C:\\Users\\hedi\\Desktop\\Graduation project\\revTest.csv', index = None, header=True)"
   ]
  },
  {
   "cell_type": "code",
   "execution_count": 38,
   "metadata": {},
   "outputs": [
    {
     "data": {
      "text/plain": [
       "{'test_rmse': array([1.30030268, 1.34464389, 1.39372048, 1.37849252, 1.39232931]),\n",
       " 'test_mae': array([1.12349833, 1.15515362, 1.16744393, 1.15872208, 1.1684256 ]),\n",
       " 'fit_time': (0.05036783218383789,\n",
       "  0.044909000396728516,\n",
       "  0.04487442970275879,\n",
       "  0.0438838005065918,\n",
       "  0.04388904571533203),\n",
       " 'test_time': (0.002004861831665039,\n",
       "  0.0019922256469726562,\n",
       "  0.000997781753540039,\n",
       "  0.0009961128234863281,\n",
       "  0.0009961128234863281)}"
      ]
     },
     "execution_count": 38,
     "metadata": {},
     "output_type": "execute_result"
    }
   ],
   "source": [
    "# A reader is still needed but only the rating_scale param is requiered.\n",
    "reader = Reader(rating_scale=(1, 6))\n",
    "algo=SVD()\n",
    "# The columns must correspond to user id, item id and ratings (in that order).\n",
    "data = Dataset.load_from_df(rev[['userID', 'placeID', 'GlobalRatings']], reader)\n",
    "\n",
    "# We can now use this dataset as we please, e.g. calling cross_validate\n",
    "cross_validate(algo, data, cv=5)"
   ]
  },
  {
   "cell_type": "code",
   "execution_count": null,
   "metadata": {},
   "outputs": [],
   "source": []
  },
  {
   "cell_type": "code",
   "execution_count": null,
   "metadata": {},
   "outputs": [],
   "source": []
  }
 ],
 "metadata": {
  "kernelspec": {
   "display_name": "Python 3",
   "language": "python",
   "name": "python3"
  },
  "language_info": {
   "codemirror_mode": {
    "name": "ipython",
    "version": 3
   },
   "file_extension": ".py",
   "mimetype": "text/x-python",
   "name": "python",
   "nbconvert_exporter": "python",
   "pygments_lexer": "ipython3",
   "version": "3.7.3"
  }
 },
 "nbformat": 4,
 "nbformat_minor": 2
}
